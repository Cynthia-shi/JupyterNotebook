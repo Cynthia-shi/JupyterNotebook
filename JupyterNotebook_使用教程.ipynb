{
 "cells": [
  {
   "cell_type": "markdown",
   "id": "a0db6509",
   "metadata": {},
   "source": [
    "# Jupyter Notebook\n",
    "\n",
    "## 命令模式\n",
    "蓝色\n",
    "编辑模式进入命令模式：esc\n",
    "\n",
    "## 编辑模式\n",
    "绿色\n",
    "命令模式进入编辑模式：enter"
   ]
  },
  {
   "cell_type": "code",
   "execution_count": 29,
   "id": "82e1c151",
   "metadata": {},
   "outputs": [
    {
     "name": "stdout",
     "output_type": "stream",
     "text": [
      "快捷键\n"
     ]
    }
   ],
   "source": [
    "print(\"快捷键\")"
   ]
  },
  {
   "cell_type": "markdown",
   "id": "1963d025",
   "metadata": {},
   "source": [
    "## 快捷键：命令行模式（按 Esc 生效）\n",
    "\n",
    "\n",
    "F: 查找并且替换\n",
    "\n",
    "↩: 进入编辑模式\n",
    "\n",
    "P: 打开命令配置\n",
    "\n",
    "⇧↩: 运行代码块, 选择下面的代码块   \n",
    "⌃↩: 运行选中的代码块   \n",
    "⌘↩: 运行选中的代码块   \n",
    "⌥↩: 运行代码块并且在下面插入代码块\n",
    "\n",
    "Y: 把代码块变成代码   \n",
    "M: 把代码块变成 Markdown\n",
    "\n",
    "R: 清除代码块格式\n",
    "\n",
    "1: 把代码块变成标题 1    \n",
    "2: 把代码块变成标题 2    \n",
    "3: 把代码块变成标题 3    \n",
    "4: 把代码块变成标题 4    \n",
    "5: 把代码块变成标题 5    \n",
    "6: 把代码块变成标题 6\n",
    "\n",
    "↑: 选择上面的代码块     \n",
    "↓: 选择下面的代码块\n",
    "\n",
    "⇧↑: 扩展上面选择的代码块    \n",
    "⇧↓: 扩展下面选择的代码块\n",
    "\n",
    "⌘A: select all cells\n",
    "\n",
    "A: 在上面插入代码块      \n",
    "B: 在下面插入代码块\n",
    "\n",
    "X: 剪切选择的代码块      \n",
    "C: 复制选择的代码块     \n",
    "⇧V: 粘贴到上面     \n",
    "V: 粘贴到下面\n",
    "\n",
    "Z: 撤销删除      \n",
    "D,D: 删除选中单元格\n",
    "\n",
    "⇧M: 合并选中单元格, 如果只有一个单元格被选中\n",
    "\n",
    "S: 保存并建立检查点\n",
    "\n",
    "L: 切换行号\n",
    "\n",
    "O: 切换选定单元格的输出      \n",
    "⇧O: 切换选中单元格的输出滚动\n",
    "\n",
    "H: 显示键盘快捷键\n",
    "\n",
    "I,I: 中断内核     \n",
    "0,0: 重启内核（带确认对话框）\n",
    "\n",
    "Esc: 关闭分页器     \n",
    "Q: 关闭分页器\n",
    "\n",
    "⇧L: 在所有单元格中切换行号，并保持设置\n",
    "\n",
    "⇧␣: 向上滚动      \n",
    "␣: 向下滚动\n"
   ]
  },
  {
   "cell_type": "code",
   "execution_count": 30,
   "id": "8a342360",
   "metadata": {},
   "outputs": [
    {
     "name": "stdout",
     "output_type": "stream",
     "text": [
      "快捷键\n"
     ]
    }
   ],
   "source": [
    "print(\"快捷键\")"
   ]
  },
  {
   "cell_type": "markdown",
   "id": "20e215bc",
   "metadata": {},
   "source": [
    "## 快捷键：编辑模式（按 Enter 生效）\n",
    "\n",
    "\n",
    "⇥: 代码补全或缩进\n",
    "\n",
    "⇧⇥: 工具提示  \n",
    "\n",
    "⌘]: 缩进   \n",
    "⌘[: 取消缩进\n",
    " \n",
    "⌘A: 全选   \n",
    "⌘Z: 撤销  \n",
    "⌘/: 注释    \n",
    "⌘D: 删除整行   \n",
    "⌘U: 撤销选择\n",
    "\n",
    "Insert: 切换重写标志\n",
    "\n",
    "⌘↑: 跳到单元格起始处   \n",
    "⌘↓: 跳到单元格最后\n",
    " \n",
    "⌥←: 往左跳一个单词   \n",
    "⌥→: 往右跳一个单词\n",
    "\n",
    "⌥⌫: 删除前面的单词       \n",
    "⌥⌦: 删除后面的单词  \n",
    "\n",
    "⌘⇧Z: 重做    \n",
    "⌘⇧U: 重新选择     \n",
    "\n",
    "⌃K: Emacs 风格的 Line Kill   \n",
    "\n",
    "⌘⌫: 删除光标左边一行   \n",
    "⌘⌦: 删除光标右边一行    \n",
    "\n",
    "⌃M: 进入命令行模式   \n",
    "Esc: 进入命令行模式   \n",
    "⌘⇧F: 打开命令配置   \n",
    "\n",
    "⌘⇧P: 打开命令配置  \n",
    "\n",
    "⇧↩: 运行代码块, 选择下面的代码块\n",
    "\n",
    "⌃↩: 运行选中的代码块  \n",
    "⌘↩: 运行选中的代码块   \n",
    "⌥↩: 运行代码块并且在下面插入代码块\n",
    "\n",
    "⌃⇧Minus: split cell at cursor(s)\n",
    "\n",
    "⌘S: 保存并建立检查点\n",
    "\n",
    "↓: 光标下移  \n",
    "↑: 光标上移\n"
   ]
  },
  {
   "cell_type": "code",
   "execution_count": 31,
   "id": "7fabe073",
   "metadata": {},
   "outputs": [
    {
     "name": "stdout",
     "output_type": "stream",
     "text": [
      "快捷键练习\n"
     ]
    }
   ],
   "source": [
    "print(\"快捷键练习\")"
   ]
  },
  {
   "cell_type": "code",
   "execution_count": 32,
   "id": "bff64c52",
   "metadata": {},
   "outputs": [
    {
     "data": {
      "text/plain": [
       "2"
      ]
     },
     "execution_count": 32,
     "metadata": {},
     "output_type": "execute_result"
    }
   ],
   "source": [
    "1+1"
   ]
  },
  {
   "cell_type": "code",
   "execution_count": 33,
   "id": "5d4bb5be",
   "metadata": {},
   "outputs": [
    {
     "data": {
      "text/plain": [
       "5050"
      ]
     },
     "execution_count": 33,
     "metadata": {},
     "output_type": "execute_result"
    }
   ],
   "source": [
    "sum(range(101))"
   ]
  },
  {
   "cell_type": "markdown",
   "id": "4ef8c967",
   "metadata": {},
   "source": []
  },
  {
   "cell_type": "code",
   "execution_count": null,
   "id": "650fbe76",
   "metadata": {},
   "outputs": [],
   "source": []
  }
 ],
 "metadata": {
  "kernelspec": {
   "display_name": "Python 3 (ipykernel)",
   "language": "python",
   "name": "python3"
  },
  "language_info": {
   "codemirror_mode": {
    "name": "ipython",
    "version": 3
   },
   "file_extension": ".py",
   "mimetype": "text/x-python",
   "name": "python",
   "nbconvert_exporter": "python",
   "pygments_lexer": "ipython3",
   "version": "3.9.7"
  }
 },
 "nbformat": 4,
 "nbformat_minor": 5
}
